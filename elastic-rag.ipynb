{
 "cells": [
  {
   "cell_type": "markdown",
   "id": "79b93aee-8be4-4940-886a-4ed5414009da",
   "metadata": {},
   "source": [
    "# Build Your own RAG\n"
   ]
  },
  {
   "cell_type": "markdown",
   "id": "097aaf88-46e7-4f63-8608-6c8b68996dd5",
   "metadata": {},
   "source": [
    "# Retrieval of Docs"
   ]
  },
  {
   "cell_type": "code",
   "execution_count": 3,
   "id": "2aed2a0f-ecb7-4f19-90fe-006ec34d5d00",
   "metadata": {},
   "outputs": [
    {
     "name": "stdout",
     "output_type": "stream",
     "text": [
      "--2024-06-21 06:38:39--  https://github.com/alexeygrigorev/llm-rag-workshop/raw/main/notebooks/documents.json\n",
      "Resolving github.com (github.com)... 140.82.121.4\n",
      "Connecting to github.com (github.com)|140.82.121.4|:443... connected.\n",
      "HTTP request sent, awaiting response... 302 Found\n",
      "Location: https://raw.githubusercontent.com/alexeygrigorev/llm-rag-workshop/main/notebooks/documents.json [following]\n",
      "--2024-06-21 06:38:39--  https://raw.githubusercontent.com/alexeygrigorev/llm-rag-workshop/main/notebooks/documents.json\n",
      "Resolving raw.githubusercontent.com (raw.githubusercontent.com)... 185.199.109.133, 185.199.108.133, 185.199.110.133, ...\n",
      "Connecting to raw.githubusercontent.com (raw.githubusercontent.com)|185.199.109.133|:443... connected.\n",
      "HTTP request sent, awaiting response... 200 OK\n",
      "Length: 658332 (643K) [text/plain]\n",
      "Saving to: ‘documents.json.4’\n",
      "\n",
      "documents.json.4    100%[===================>] 642.90K  --.-KB/s    in 0.02s   \n",
      "\n",
      "2024-06-21 06:38:39 (40.5 MB/s) - ‘documents.json.4’ saved [658332/658332]\n",
      "\n"
     ]
    }
   ],
   "source": [
    "!wget https://github.com/alexeygrigorev/llm-rag-workshop/raw/main/notebooks/documents.json\n"
   ]
  },
  {
   "cell_type": "code",
   "execution_count": 4,
   "id": "84a87c87",
   "metadata": {},
   "outputs": [],
   "source": [
    "# Importing data to include sext,question and course..\n",
    "import json \n",
    "with open ('./documents.json','rt') as f_in:\n",
    "    documents_file = json.load(f_in)\n",
    "# Empty list to store the retrieved docs\n",
    "documents = []\n",
    "\n",
    "for course in documents_file:\n",
    "    course_name = course['course']\n",
    "    for doc in course['documents']:\n",
    "        doc['course'] = course_name\n",
    "        documents.append(doc)"
   ]
  },
  {
   "cell_type": "code",
   "execution_count": 5,
   "id": "c5c355cd",
   "metadata": {},
   "outputs": [
    {
     "data": {
      "text/plain": [
       "{'text': \"Yes, even if you don't register, you're still eligible to submit the homeworks.\\nBe aware, however, that there will be deadlines for turning in the final projects. So don't leave everything for the last minute.\",\n",
       " 'section': 'General course-related questions',\n",
       " 'question': 'Course - Can I still join the course after the start date?',\n",
       " 'course': 'data-engineering-zoomcamp'}"
      ]
     },
     "execution_count": 5,
     "metadata": {},
     "output_type": "execute_result"
    }
   ],
   "source": [
    "documents[2]"
   ]
  },
  {
   "cell_type": "code",
   "execution_count": 7,
   "id": "9c8ed6f5",
   "metadata": {},
   "outputs": [
    {
     "data": {
      "text/plain": [
       "ObjectApiResponse({'name': '3258b0acb186', 'cluster_name': 'docker-cluster', 'cluster_uuid': 'QeuogQ_VT4K76xN52oelBg', 'version': {'number': '8.4.3', 'build_flavor': 'default', 'build_type': 'docker', 'build_hash': '42f05b9372a9a4a470db3b52817899b99a76ee73', 'build_date': '2022-10-04T07:17:24.662462378Z', 'build_snapshot': False, 'lucene_version': '9.3.0', 'minimum_wire_compatibility_version': '7.17.0', 'minimum_index_compatibility_version': '7.0.0'}, 'tagline': 'You Know, for Search'})"
      ]
     },
     "execution_count": 7,
     "metadata": {},
     "output_type": "execute_result"
    }
   ],
   "source": [
    "# Use Elastic search to index documents\n",
    "from elasticsearch import Elasticsearch\n",
    "\n",
    "es = Elasticsearch(\"http://localhost:9200\")\n",
    "es.info()"
   ]
  },
  {
   "cell_type": "code",
   "execution_count": 8,
   "id": "7aba2ec6",
   "metadata": {},
   "outputs": [
    {
     "data": {
      "text/plain": [
       "ObjectApiResponse({'acknowledged': True, 'shards_acknowledged': True, 'index': 'course-questions'})"
      ]
     },
     "execution_count": 8,
     "metadata": {},
     "output_type": "execute_result"
    }
   ],
   "source": [
    "# Create an index (in elastic search its a table)\n",
    "index_settings = {\n",
    "    \"settings\": {\n",
    "        \"number_of_shards\": 1,\n",
    "        \"number_of_replicas\": 0\n",
    "    },\n",
    "    \"mappings\": {\n",
    "        \"properties\": {\n",
    "            \"text\": {\"type\": \"text\"},\n",
    "            \"section\": {\"type\": \"text\"},\n",
    "            \"question\": {\"type\": \"text\"},\n",
    "            \"course\": {\"type\": \"keyword\"} \n",
    "        }\n",
    "    }\n",
    "}\n",
    "\n",
    "index_name = \"course-questions\"\n",
    "# Delete index if it already exists\n",
    "if es.indices.exists(index=index_name):\n",
    "    es.indices.delete(index=index_name)\n",
    "response = es.indices.create(index=index_name, body=index_settings)\n",
    "\n",
    "response"
   ]
  },
  {
   "cell_type": "code",
   "execution_count": 9,
   "id": "6c8fcf08",
   "metadata": {},
   "outputs": [
    {
     "name": "stderr",
     "output_type": "stream",
     "text": [
      "/home/codespace/.local/share/virtualenvs/LLM_zoomcamp-BQXyb0-B/lib/python3.10/site-packages/tqdm/auto.py:21: TqdmWarning: IProgress not found. Please update jupyter and ipywidgets. See https://ipywidgets.readthedocs.io/en/stable/user_install.html\n",
      "  from .autonotebook import tqdm as notebook_tqdm\n",
      "100%|███████████████████████████████████████████████████████████████████████████████████████████████████████████████████████████████████████████████████████████████████████████████████████████████| 948/948 [00:33<00:00, 28.57it/s]\n"
     ]
    }
   ],
   "source": [
    "from tqdm.auto import tqdm\n",
    "\n",
    "for doc in tqdm(documents):\n",
    "    es.index(index=index_name, document=doc)"
   ]
  },
  {
   "cell_type": "code",
   "execution_count": 10,
   "id": "52d661a8",
   "metadata": {},
   "outputs": [],
   "source": [
    "user_question = \"How do I join the course after it has started?\"\n",
    "\n",
    "search_query = {\n",
    "    \"size\": 5,\n",
    "    \"query\": {\n",
    "        \"bool\": {\n",
    "            \"must\": {\n",
    "                \"multi_match\": {\n",
    "                    \"query\": user_question,\n",
    "                    \"fields\": [\"question^3\", \"text\", \"section\"],\n",
    "                    \"type\": \"best_fields\"\n",
    "                }\n",
    "            },\n",
    "            \"filter\": {\n",
    "                \"term\": {\n",
    "                    \"course\": \"data-engineering-zoomcamp\"\n",
    "                }\n",
    "            }\n",
    "        }\n",
    "    }\n",
    "}"
   ]
  },
  {
   "cell_type": "code",
   "execution_count": 11,
   "id": "8cc2f393",
   "metadata": {},
   "outputs": [
    {
     "name": "stdout",
     "output_type": "stream",
     "text": [
      "Section: General course-related questions\n",
      "Question: Course - Can I still join the course after the start date?\n",
      "Answer: Yes, even if you don't register, you're still eligible to submit the homeworks.\n",
      "Be aware, however, t...\n",
      "\n",
      "Section: General course-related questions\n",
      "Question: Course - Can I follow the course after it finishes?\n",
      "Answer: Yes, we will keep all the materials after the course finishes, so you can follow the course at your ...\n",
      "\n",
      "Section: General course-related questions\n",
      "Question: Course - What can I do before the course starts?\n",
      "Answer: You can start by installing and setting up all the dependencies and requirements:\n",
      "Google cloud accou...\n",
      "\n",
      "Section: General course-related questions\n",
      "Question: How do I use Git / GitHub for this course?\n",
      "Answer: After you create a GitHub account, you should clone the course repo to your local machine using the ...\n",
      "\n",
      "Section: Workshop 1 - dlthub\n",
      "Question: How do I install the necessary dependencies to run the code?\n",
      "Answer: Answer: To run the provided code, ensure that the 'dlt[duckdb]' package is installed. You can do thi...\n",
      "\n"
     ]
    }
   ],
   "source": [
    "response = es.search(index=index_name, body=search_query)\n",
    "response\n",
    "\n",
    "for hit in response['hits']['hits']:\n",
    "    doc = hit['_source']\n",
    "    print(f\"Section: {doc['section']}\")\n",
    "    print(f\"Question: {doc['question']}\")\n",
    "    print(f\"Answer: {doc['text'][:100]}...\\n\")"
   ]
  },
  {
   "cell_type": "code",
   "execution_count": 38,
   "id": "6f1bbe08",
   "metadata": {},
   "outputs": [],
   "source": [
    "# Lets try to put it in a function. We only need the user query, the index/table_name and the maximum results to be produced\n",
    "\n",
    "def retrieve_document(query, index_name = \"course-questions\",max_result=5):\n",
    "    \n",
    "    user_question = query\n",
    "\n",
    "    search_query = {\n",
    "        \"size\": max_result,\n",
    "        \"query\": {\n",
    "            \"bool\": {\n",
    "                \"must\": {\n",
    "                    \"multi_match\": {\n",
    "                        \"query\": user_question,\n",
    "                        \"fields\": [\"question^3\", \"text\", \"section\"],\n",
    "                        \"type\": \"best_fields\"\n",
    "                    }\n",
    "                },\n",
    "                \"filter\": {\n",
    "                    \"term\": {\n",
    "                        \"course\": \"data-engineering-zoomcamp\"\n",
    "                    }\n",
    "                }\n",
    "            }\n",
    "        }\n",
    "    }\n",
    "    response = es.search(index=index_name, body=search_query)\n",
    "    documents = [hit['_source'] for hit in response['hits']['hits']]\n",
    "    return documents\n",
    "    \n",
    "    "
   ]
  },
  {
   "cell_type": "code",
   "execution_count": 39,
   "id": "963f1f95",
   "metadata": {},
   "outputs": [],
   "source": [
    "# retrieve_document(\"Can I still join the course after the start date\")\n"
   ]
  },
  {
   "cell_type": "markdown",
   "id": "f839198f",
   "metadata": {},
   "source": [
    "## Generation - Answering questions"
   ]
  },
  {
   "cell_type": "markdown",
   "id": "b774573a",
   "metadata": {},
   "source": [
    "#### We now do the G part in RAG based on the R output"
   ]
  },
  {
   "cell_type": "code",
   "execution_count": 40,
   "id": "e78af3f0",
   "metadata": {},
   "outputs": [],
   "source": [
    "# Lets communicate with GPT 3.5\n",
    "from openai import OpenAI"
   ]
  },
  {
   "cell_type": "code",
   "execution_count": 41,
   "id": "330e7895",
   "metadata": {},
   "outputs": [
    {
     "name": "stdout",
     "output_type": "stream",
     "text": [
      "It depends on the specific course policies and the institution offering the course. Here are some steps you can take:\n",
      "\n",
      "1. **Check the Course Website or Catalog**: Sometimes, information about late registration or joining after the start date is provided online.\n",
      "\n",
      "2. **Contact the Instructor**: Reach out to the course instructor directly to inquire if it's possible to join late. Be sure to explain your situation.\n",
      "\n",
      "3. **Speak to an Academic Advisor**: An academic advisor can provide guidance on the policies and may assist in facilitating your late enrollment.\n",
      "\n",
      "4. **Review the Institution’s Policies**: Many institutions have specific policies regarding late enrollment, including cut-off dates and potential penalties.\n",
      "\n",
      "5. **Catch Up on Course Material**: If you are allowed to join, be prepared to quickly catch up on any missed coursework to stay current with the class.\n",
      "\n",
      "Do you have the contact information for the instructor or the academic advising office? That would be a good place to start.\n"
     ]
    }
   ],
   "source": [
    "# Create a client object\n",
    "client = OpenAI()\n",
    "response = client.chat.completions.create(\n",
    "    model=\"gpt-4o\",\n",
    "    messages = [{\n",
    "        \"role\":\"user\",\n",
    "        \"content\":\"The course already started. Can I still join?\"\n",
    "    }])\n",
    "print(response.choices[0].message.content)"
   ]
  },
  {
   "cell_type": "code",
   "execution_count": 42,
   "id": "fa211872-3767-41cb-b296-33215c86476c",
   "metadata": {},
   "outputs": [
    {
     "name": "stdout",
     "output_type": "stream",
     "text": [
      "Section: General course-related questions\n",
      "Question: Course - Can I still join the course after the start date?\n",
      "Answer: Yes, even if you don't register, you're still eligible to submit the homeworks.\n",
      "Be aware, however, that there will be deadlines for turning in the final projects. So don't leave everything for the last minute.\n",
      "\n",
      "Section: General course-related questions\n",
      "Question: Course - Can I follow the course after it finishes?\n",
      "Answer: Yes, we will keep all the materials after the course finishes, so you can follow the course at your own pace after it finishes.\n",
      "You can also continue looking at the homeworks and continue preparing for the next cohort. I guess you can also start working on your final capstone project.\n",
      "\n",
      "Section: General course-related questions\n",
      "Question: Course - What can I do before the course starts?\n",
      "Answer: You can start by installing and setting up all the dependencies and requirements:\n",
      "Google cloud account\n",
      "Google Cloud SDK\n",
      "Python 3 (installed with Anaconda)\n",
      "Terraform\n",
      "Git\n",
      "Look over the prerequisites and syllabus to see if you are comfortable with these subjects.\n",
      "\n",
      "Section: General course-related questions\n",
      "Question: How do I use Git / GitHub for this course?\n",
      "Answer: After you create a GitHub account, you should clone the course repo to your local machine using the process outlined in this video: Git for Everybody: How to Clone a Repository from GitHub\n",
      "Having this local repository on your computer will make it easy for you to access the instructors’ code and make pull requests (if you want to add your own notes or make changes to the course content).\n",
      "You will probably also create your own repositories that host your notes, versions of your file, to do this. Here is a great tutorial that shows you how to do this: https://www.atlassian.com/git/tutorials/setting-up-a-repository\n",
      "Remember to ignore large database, .csv, and .gz files, and other files that should not be saved to a repository. Use .gitignore for this: https://www.atlassian.com/git/tutorials/saving-changes/gitignore NEVER store passwords or keys in a git repo (even if that repo is set to private).\n",
      "This is also a great resource: https://dangitgit.com/\n",
      "\n",
      "Section: Workshop 1 - dlthub\n",
      "Question: How do I install the necessary dependencies to run the code?\n",
      "Answer: Answer: To run the provided code, ensure that the 'dlt[duckdb]' package is installed. You can do this by executing the provided installation command: !pip install dlt[duckdb]. If you’re doing it locally, be sure to also have duckdb pip installed (even before the duckdb package is loaded).\n"
     ]
    }
   ],
   "source": [
    "# Set Up our prompt structure.\n",
    "context_template = \"\"\"\n",
    "Section: {section}\n",
    "Question: {question}\n",
    "Answer: {text}\n",
    "\"\"\".strip()\n",
    "context_docs = retrieve_document(user_question)\n",
    "\n",
    "context_result = \"\"\n",
    "\n",
    "for doc in context_docs:\n",
    "    doc_str = context_template.format(**doc)\n",
    "    context_result += (\"\\n\\n\" + doc_str)\n",
    "\n",
    "context = context_result.strip()\n",
    "print(context)"
   ]
  },
  {
   "cell_type": "code",
   "execution_count": 43,
   "id": "cbc9496c-999b-4cf7-8255-a85a824350e8",
   "metadata": {},
   "outputs": [],
   "source": [
    "prompt = f\"\"\"You're a course teaching assistant. Answer the user QUESSTION based on CONTEXT- the documents retireved from our FAQ database.\n",
    "Only use the facts from the CONTEXT.If the CONTEXT doesn't contain the answer, return \"NONE\" \n",
    "QUESTION : {user_question}\n",
    "CONTEXT:\n",
    "{context}\n",
    "\"\"\".strip()"
   ]
  },
  {
   "cell_type": "code",
   "execution_count": 44,
   "id": "7c9ae7ae-3e40-492c-8488-c78931392998",
   "metadata": {},
   "outputs": [
    {
     "name": "stdout",
     "output_type": "stream",
     "text": [
      "Yes, you can still join the course after it has started. Even if you don't officially register, you're eligible to submit the homework assignments. However, be sure to adhere to the deadlines for turning in the final projects to avoid last-minute rushes.\n"
     ]
    }
   ],
   "source": [
    "# Lets now prompt GPT\n",
    "# Create a client object\n",
    "client = OpenAI()\n",
    "response = client.chat.completions.create(\n",
    "    model=\"gpt-4o\",\n",
    "    messages = [{\n",
    "        \"role\":\"user\",\n",
    "        \"content\":prompt\n",
    "    }])\n",
    "print(response.choices[0].message.content)"
   ]
  },
  {
   "cell_type": "markdown",
   "id": "cb5ff6b7-596b-4c92-b707-1759e0a35602",
   "metadata": {},
   "source": [
    "#### There are system and user prompts. Lets combine everything together to produce outputs in one function"
   ]
  },
  {
   "cell_type": "code",
   "execution_count": 45,
   "id": "6d37249e-4a34-4c06-88b3-a11a8b6571da",
   "metadata": {},
   "outputs": [],
   "source": [
    "# Contatenate my questions\n",
    "context_template  = \"\"\" Section:{section}\n",
    "Question:{question}\n",
    "Answer:{text}\"\"\".strip()\n",
    "# Set up the prompt\n",
    "prompt_template = f\"\"\"You're a course teaching assistant. Answer the user QUESTION based on CONTEXT- the documents retireved from our FAQ database.\n",
    "Only use the facts from the CONTEXT.If the CONTEXT doesn't contain the answer, return \"NONE\" \n",
    "\n",
    "QUESTION : {user_question}\n",
    "\n",
    "CONTEXT:\n",
    "\n",
    "{context}\n",
    "\n",
    "\"\"\".strip()\n",
    "# We want to build context properly (well formated)\n",
    "def build_context(documets):\n",
    "    context_result = \"\"\n",
    "    for doc in documents:\n",
    "        doc_str = context_template.format(**doc)\n",
    "        context_result += (\"\\n\\n\"+doc_str)\n",
    "    return context_result.strip()\n",
    "# Structure it as a prompt\n",
    "def build_prompt(user_question,documents):\n",
    "    context = build_context(documents)\n",
    "    prompt = prompt_template.format(user_question = user_question,\n",
    "                                    context = context)\n",
    "    return prompt\n",
    "# Lets ask AI\n",
    "def ask_openai(prompt,model=\"gpt-4o\"):\n",
    "    response = client.chat.completions.create(\n",
    "    model=model,\n",
    "    messages = [{\n",
    "        \"role\":\"user\",\n",
    "        \"content\":prompt}])\n",
    "    answers = response.choices[0].message.content\n",
    "    return answers\n",
    "# Lets put everything together in one bot\n",
    "def qa_bot(user_question):\n",
    "    context_test = build_context(retrieve_document(user_question))\n",
    "    prompt_structure = build_prompt(user_question,context_test)\n",
    "    gpt_ans = ask_openai(prompt_structure)\n",
    "    return gpt_ans\n"
   ]
  },
  {
   "cell_type": "code",
   "execution_count": 49,
   "id": "fa66a306-ab30-4709-a4cf-29a2abf02188",
   "metadata": {},
   "outputs": [
    {
     "data": {
      "text/plain": [
       "\"Yes, even if you don't register by the course start date, you're still eligible to submit the homeworks. Be aware, however, that there will be deadlines for turning in the final projects. So don't leave everything for the last minute.\""
      ]
     },
     "execution_count": 49,
     "metadata": {},
     "output_type": "execute_result"
    }
   ],
   "source": [
    "qa_bot(\"How can i resister for my course\")"
   ]
  },
  {
   "cell_type": "code",
   "execution_count": 47,
   "id": "a6ce45fb-e8c6-48a8-9260-421ec6c1c306",
   "metadata": {},
   "outputs": [
    {
     "data": {
      "text/plain": [
       "\"Yes, even if you don't register, you're still eligible to submit the homeworks. Be aware, however, that there will be deadlines for turning in the final projects. So don't leave everything for the last minute.\""
      ]
     },
     "execution_count": 47,
     "metadata": {},
     "output_type": "execute_result"
    }
   ],
   "source": [
    "qa_bot(\"I can't connect to postgres port 5432, my password doesn't work\")"
   ]
  },
  {
   "cell_type": "code",
   "execution_count": null,
   "id": "342aa5d0-9852-4101-a567-27d383ebcbc1",
   "metadata": {},
   "outputs": [],
   "source": []
  }
 ],
 "metadata": {
  "kernelspec": {
   "display_name": "Python 3 (ipykernel)",
   "language": "python",
   "name": "python3"
  },
  "language_info": {
   "codemirror_mode": {
    "name": "ipython",
    "version": 3
   },
   "file_extension": ".py",
   "mimetype": "text/x-python",
   "name": "python",
   "nbconvert_exporter": "python",
   "pygments_lexer": "ipython3",
   "version": "3.10.13"
  }
 },
 "nbformat": 4,
 "nbformat_minor": 5
}
